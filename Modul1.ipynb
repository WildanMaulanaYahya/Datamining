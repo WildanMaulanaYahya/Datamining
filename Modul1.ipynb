{
  "nbformat": 4,
  "nbformat_minor": 0,
  "metadata": {
    "colab": {
      "name": "Modul 1.ipynb",
      "provenance": [],
      "collapsed_sections": [],
      "authorship_tag": "ABX9TyOkUIERBPjA7+bGQjxcAM1D",
      "include_colab_link": true
    },
    "kernelspec": {
      "name": "python3",
      "display_name": "Python 3"
    },
    "language_info": {
      "name": "python"
    }
  },
  "cells": [
    {
      "cell_type": "markdown",
      "metadata": {
        "id": "view-in-github",
        "colab_type": "text"
      },
      "source": [
        "<a href=\"https://colab.research.google.com/github/WildanMaulanaYahya/Datamining/blob/main/Modul1.ipynb\" target=\"_parent\"><img src=\"https://colab.research.google.com/assets/colab-badge.svg\" alt=\"Open In Colab\"/></a>"
      ]
    },
    {
      "cell_type": "code",
      "metadata": {
        "id": "M6XKDyHobqsQ"
      },
      "source": [
        "# NAMA : WILDAN MAULANA YAHYA\n",
        "# NIM : 202410102079\n",
        "# KELAS : DATMIN A"
      ],
      "execution_count": null,
      "outputs": []
    },
    {
      "cell_type": "code",
      "metadata": {
        "id": "oyJ7WPBFCYfd",
        "colab": {
          "base_uri": "https://localhost:8080/"
        },
        "outputId": "d219da37-66b3-411a-e425-120bc7a3a018"
      },
      "source": [
        "#kode 1f\n",
        "import numpy as np\n",
        "arr = np.array([[4,4,5],[7,6,4],[9,7,4],[6,3,7]])\n",
        "print(arr)"
      ],
      "execution_count": null,
      "outputs": [
        {
          "output_type": "stream",
          "name": "stdout",
          "text": [
            "[[4 4 5]\n",
            " [7 6 4]\n",
            " [9 7 4]\n",
            " [6 3 7]]\n"
          ]
        }
      ]
    },
    {
      "cell_type": "code",
      "metadata": {
        "colab": {
          "base_uri": "https://localhost:8080/"
        },
        "id": "IxMtNyUtrZzX",
        "outputId": "7d797d14-2b00-47a3-faba-0ffe5f34bb19"
      },
      "source": [
        "#kode 1g\n",
        "import numpy as np\n",
        "arr = np.array([[[7,8,5],[4,7,7],[7,1,9],[5,4,10]],[[2,1,2],[9,8,5],[3,7,3],[4,9,9]],[[2,9,3],[2,4,8],[1,6,6],[8,1,3]]])\n",
        "print(arr)"
      ],
      "execution_count": null,
      "outputs": [
        {
          "output_type": "stream",
          "name": "stdout",
          "text": [
            "[[[ 7  8  5]\n",
            "  [ 4  7  7]\n",
            "  [ 7  1  9]\n",
            "  [ 5  4 10]]\n",
            "\n",
            " [[ 2  1  2]\n",
            "  [ 9  8  5]\n",
            "  [ 3  7  3]\n",
            "  [ 4  9  9]]\n",
            "\n",
            " [[ 2  9  3]\n",
            "  [ 2  4  8]\n",
            "  [ 1  6  6]\n",
            "  [ 8  1  3]]]\n"
          ]
        }
      ]
    },
    {
      "cell_type": "code",
      "metadata": {
        "colab": {
          "base_uri": "https://localhost:8080/"
        },
        "id": "BEbjymKV3jlI",
        "outputId": "7e615782-d0a6-4fed-c5de-55e6faca8b01"
      },
      "source": [
        "#kode 2d\n",
        "import numpy as np\n",
        "arr = np.array([[1,8,8,2],[8,2,1,2],[10,1,4,7],[1,4,7,8],[8,2,3,4]])\n",
        "arr[1::2] += 1\n",
        "print(arr)\n",
        "arr[:,0::2] += 2\n",
        "print(arr)"
      ],
      "execution_count": null,
      "outputs": [
        {
          "output_type": "stream",
          "name": "stdout",
          "text": [
            "[[ 1  8  8  2]\n",
            " [ 9  3  2  3]\n",
            " [10  1  4  7]\n",
            " [ 2  5  8  9]\n",
            " [ 8  2  3  4]]\n",
            "[[ 3  8 10  2]\n",
            " [11  3  4  3]\n",
            " [12  1  6  7]\n",
            " [ 4  5 10  9]\n",
            " [10  2  5  4]]\n"
          ]
        }
      ]
    },
    {
      "cell_type": "code",
      "metadata": {
        "colab": {
          "base_uri": "https://localhost:8080/"
        },
        "id": "FSP9j-PK8fRi",
        "outputId": "ef57183d-d632-40f9-9f79-c67a0ffd015f"
      },
      "source": [
        "#kode 2e\n",
        "import numpy as np\n",
        "arr=np.array([[[7,8,5], [4,7,7], [7,1,9], [5,4,10]], [[2,1,2], [9,8,5], [3,7,3], [4,9,9]], [[2,9,3], [2,4,8], [1,6,6], [8,1,3]]])\n",
        "print (arr[::-1])"
      ],
      "execution_count": null,
      "outputs": [
        {
          "output_type": "stream",
          "name": "stdout",
          "text": [
            "[[[ 2  9  3]\n",
            "  [ 2  4  8]\n",
            "  [ 1  6  6]\n",
            "  [ 8  1  3]]\n",
            "\n",
            " [[ 2  1  2]\n",
            "  [ 9  8  5]\n",
            "  [ 3  7  3]\n",
            "  [ 4  9  9]]\n",
            "\n",
            " [[ 7  8  5]\n",
            "  [ 4  7  7]\n",
            "  [ 7  1  9]\n",
            "  [ 5  4 10]]]\n"
          ]
        }
      ]
    },
    {
      "cell_type": "code",
      "metadata": {
        "colab": {
          "base_uri": "https://localhost:8080/"
        },
        "id": "y4gR7FdpH-W0",
        "outputId": "220b0cb2-96c5-4222-e0f5-d82013b55ab6"
      },
      "source": [
        "#kode 2f\n",
        "import numpy as np\n",
        "arr=np.array([[[7,8,5], [4,7,7], [7,1,9], [5,4,10]], [[2,1,2], [9,8,5], [3,7,3], [4,9,9]], [[2,9,3], [2,4,8], [1,6,6], [8,1,3]]])\n",
        "arr=arr.reshape (6,6)\n",
        "print(arr)"
      ],
      "execution_count": null,
      "outputs": [
        {
          "output_type": "stream",
          "name": "stdout",
          "text": [
            "[[ 7  8  5  4  7  7]\n",
            " [ 7  1  9  5  4 10]\n",
            " [ 2  1  2  9  8  5]\n",
            " [ 3  7  3  4  9  9]\n",
            " [ 2  9  3  2  4  8]\n",
            " [ 1  6  6  8  1  3]]\n"
          ]
        }
      ]
    },
    {
      "cell_type": "code",
      "metadata": {
        "colab": {
          "base_uri": "https://localhost:8080/"
        },
        "id": "1le7mI5ZIIAj",
        "outputId": "9ef5856f-3495-4094-f846-0931c573a849"
      },
      "source": [
        "#kode 3e\n",
        "import numpy as np\n",
        "arr = np.array([[5,10,10,7],[7,8,4,10],[9,10,2,5],[1,8,9,3],[6,10,5,2],[4,6,9,4]])\n",
        "\n",
        "arr_1 = arr[:3,:2] #bagian kiri atas yang berisi 5,10,7,8,9,10\n",
        "arr_2 = arr[3:,:2] #bagian kiri bawah yang berisi 1,8,6,10,4,6\n",
        "arr_3 = arr[:3,2:] #bagian kanan atas yang berisi 10,7,4,10,2,5\n",
        "arr_4 = arr[3:,2:] #bagian kanan bawah yang berisi 9,3,5,2,9,4\n",
        "\n",
        "k1 = np.concatenate ((arr_4,arr_2),axis=1) #atas\n",
        "k2 = np.concatenate ((arr_3,arr_1),axis=1) #bawah\n",
        "arr_total = np.concatenate ((k1,k2),axis=0)\n",
        "print(arr_total)\n"
      ],
      "execution_count": null,
      "outputs": [
        {
          "output_type": "stream",
          "name": "stdout",
          "text": [
            "[[ 9  3  1  8]\n",
            " [ 5  2  6 10]\n",
            " [ 9  4  4  6]\n",
            " [10  7  5 10]\n",
            " [ 4 10  7  8]\n",
            " [ 2  5  9 10]]\n"
          ]
        }
      ]
    }
  ]
}